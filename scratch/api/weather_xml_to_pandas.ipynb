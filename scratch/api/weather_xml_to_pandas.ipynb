{
 "cells": [
  {
   "cell_type": "code",
   "execution_count": 7,
   "metadata": {
    "collapsed": true
   },
   "outputs": [],
   "source": [
    "import requests\n",
    "import pandas as pd\n",
    "from bs4 import BeautifulSoup"
   ]
  },
  {
   "cell_type": "code",
   "execution_count": 8,
   "metadata": {
    "collapsed": true
   },
   "outputs": [],
   "source": [
    "weather_xml = requests.get('http://datapoint.metoffice.gov.uk/public/data/val/wxfcs/all/xml/352322?res=3hourly&key=835b21a1-bca4-4793-83ae-ca7aa5337587')"
   ]
  },
  {
   "cell_type": "code",
   "execution_count": 9,
   "metadata": {
    "collapsed": false
   },
   "outputs": [
    {
     "data": {
      "text/plain": [
       "b'<?xml version=\"1.0\" encoding=\"UTF-8\"?><SiteRep><Wx><Param name=\"F\" units=\"C\">Feels Like Temperature</Param><Param name=\"G\" units=\"mph\">Wind Gust</Param><Param name=\"H\" units=\"%\">Screen Relative Humidity</Param><Param name=\"T\" units=\"C\">Temperature</Param><Param name=\"V\" units=\"\">Visibility</Param><Param name=\"D\" units=\"compass\">Wind Direction</Param><Param name=\"S\" units=\"mph\">Wind Speed</Param><Param name=\"U\" units=\"\">Max UV Index</Param><Param name=\"W\" units=\"\">Weather Type</Param><Param name=\"Pp\" units=\"%\">Precipitation Probability</Param></Wx><DV dataDate=\"2017-06-15T19:00:00Z\" type=\"Forecast\"><Location i=\"352322\" lat=\"53.1178\" lon=\"-4.1263\" name=\"LLANBERIS\" country=\"WALES\" continent=\"EUROPE\" elevation=\"126.0\"><Period type=\"Day\" value=\"2017-06-15Z\"><Rep D=\"WSW\" F=\"9\" G=\"38\" H=\"77\" Pp=\"6\" S=\"31\" T=\"15\" V=\"GO\" W=\"7\" U=\"4\">900</Rep><Rep D=\"WSW\" F=\"9\" G=\"40\" H=\"75\" Pp=\"8\" S=\"29\" T=\"15\" V=\"GO\" W=\"7\" U=\"1\">1080</Rep><Rep D=\"WSW\" F=\"12\" G=\"25\" H=\"80\" Pp=\"4\" S=\"9\" T=\"13\" V=\"VG\" W=\"7\" U=\"0\">1260</Rep></Period><Period type=\"Day\" value=\"2017-06-16Z\"><Rep D=\"W\" F=\"11\" G=\"22\" H=\"81\" Pp=\"5\" S=\"9\" T=\"13\" V=\"VG\" W=\"7\" U=\"0\">0</Rep><Rep D=\"W\" F=\"11\" G=\"18\" H=\"84\" Pp=\"8\" S=\"7\" T=\"12\" V=\"VG\" W=\"8\" U=\"0\">180</Rep><Rep D=\"WSW\" F=\"11\" G=\"18\" H=\"86\" Pp=\"9\" S=\"7\" T=\"12\" V=\"VG\" W=\"8\" U=\"1\">360</Rep><Rep D=\"SW\" F=\"12\" G=\"20\" H=\"84\" Pp=\"17\" S=\"7\" T=\"14\" V=\"VG\" W=\"8\" U=\"2\">540</Rep><Rep D=\"SW\" F=\"14\" G=\"18\" H=\"85\" Pp=\"13\" S=\"7\" T=\"15\" V=\"MO\" W=\"7\" U=\"5\">720</Rep><Rep D=\"SW\" F=\"16\" G=\"18\" H=\"83\" Pp=\"8\" S=\"7\" T=\"17\" V=\"VG\" W=\"7\" U=\"4\">900</Rep><Rep D=\"SSW\" F=\"16\" G=\"13\" H=\"90\" Pp=\"6\" S=\"7\" T=\"16\" V=\"GO\" W=\"7\" U=\"1\">1080</Rep><Rep D=\"S\" F=\"15\" G=\"16\" H=\"92\" Pp=\"6\" S=\"4\" T=\"15\" V=\"MO\" W=\"7\" U=\"0\">1260</Rep></Period><Period type=\"Day\" value=\"2017-06-17Z\"><Rep D=\"S\" F=\"14\" G=\"16\" H=\"93\" Pp=\"6\" S=\"7\" T=\"14\" V=\"MO\" W=\"7\" U=\"0\">0</Rep><Rep D=\"S\" F=\"13\" G=\"18\" H=\"95\" Pp=\"5\" S=\"7\" T=\"14\" V=\"MO\" W=\"7\" U=\"0\">180</Rep><Rep D=\"S\" F=\"13\" G=\"22\" H=\"90\" Pp=\"3\" S=\"9\" T=\"14\" V=\"GO\" W=\"3\" U=\"1\">360</Rep><Rep D=\"S\" F=\"14\" G=\"25\" H=\"79\" Pp=\"0\" S=\"9\" T=\"16\" V=\"VG\" W=\"1\" U=\"4\">540</Rep><Rep D=\"SSW\" F=\"16\" G=\"25\" H=\"75\" Pp=\"0\" S=\"9\" T=\"17\" V=\"VG\" W=\"1\" U=\"8\">720</Rep><Rep D=\"S\" F=\"16\" G=\"25\" H=\"70\" Pp=\"0\" S=\"9\" T=\"18\" V=\"VG\" W=\"1\" U=\"5\">900</Rep><Rep D=\"S\" F=\"15\" G=\"22\" H=\"74\" Pp=\"0\" S=\"7\" T=\"16\" V=\"VG\" W=\"1\" U=\"1\">1080</Rep><Rep D=\"S\" F=\"12\" G=\"18\" H=\"84\" Pp=\"0\" S=\"7\" T=\"13\" V=\"VG\" W=\"0\" U=\"0\">1260</Rep></Period><Period type=\"Day\" value=\"2017-06-18Z\"><Rep D=\"SSE\" F=\"11\" G=\"18\" H=\"88\" Pp=\"1\" S=\"7\" T=\"12\" V=\"VG\" W=\"0\" U=\"0\">0</Rep><Rep D=\"SSE\" F=\"10\" G=\"16\" H=\"92\" Pp=\"1\" S=\"4\" T=\"11\" V=\"VG\" W=\"2\" U=\"0\">180</Rep><Rep D=\"S\" F=\"12\" G=\"13\" H=\"89\" Pp=\"1\" S=\"4\" T=\"12\" V=\"VG\" W=\"3\" U=\"1\">360</Rep><Rep D=\"S\" F=\"15\" G=\"13\" H=\"83\" Pp=\"1\" S=\"4\" T=\"16\" V=\"VG\" W=\"1\" U=\"4\">540</Rep><Rep D=\"SSW\" F=\"19\" G=\"16\" H=\"73\" Pp=\"0\" S=\"4\" T=\"19\" V=\"VG\" W=\"1\" U=\"8\">720</Rep><Rep D=\"SW\" F=\"20\" G=\"16\" H=\"72\" Pp=\"0\" S=\"4\" T=\"19\" V=\"VG\" W=\"1\" U=\"5\">900</Rep><Rep D=\"WSW\" F=\"18\" G=\"11\" H=\"79\" Pp=\"0\" S=\"2\" T=\"18\" V=\"VG\" W=\"1\" U=\"1\">1080</Rep><Rep D=\"SE\" F=\"15\" G=\"4\" H=\"92\" Pp=\"2\" S=\"2\" T=\"14\" V=\"MO\" W=\"0\" U=\"0\">1260</Rep></Period><Period type=\"Day\" value=\"2017-06-19Z\"><Rep D=\"SE\" F=\"13\" G=\"4\" H=\"93\" Pp=\"0\" S=\"2\" T=\"13\" V=\"MO\" W=\"0\" U=\"0\">0</Rep><Rep D=\"ESE\" F=\"12\" G=\"4\" H=\"95\" Pp=\"4\" S=\"2\" T=\"12\" V=\"MO\" W=\"2\" U=\"0\">180</Rep><Rep D=\"SSE\" F=\"15\" G=\"4\" H=\"90\" Pp=\"2\" S=\"2\" T=\"15\" V=\"GO\" W=\"1\" U=\"1\">360</Rep><Rep D=\"W\" F=\"19\" G=\"11\" H=\"83\" Pp=\"1\" S=\"2\" T=\"18\" V=\"VG\" W=\"3\" U=\"4\">540</Rep><Rep D=\"WNW\" F=\"20\" G=\"16\" H=\"79\" Pp=\"2\" S=\"4\" T=\"20\" V=\"VG\" W=\"3\" U=\"7\">720</Rep><Rep D=\"NW\" F=\"19\" G=\"16\" H=\"76\" Pp=\"0\" S=\"7\" T=\"19\" V=\"VG\" W=\"3\" U=\"4\">900</Rep><Rep D=\"N\" F=\"16\" G=\"18\" H=\"79\" Pp=\"0\" S=\"7\" T=\"17\" V=\"VG\" W=\"3\" U=\"1\">1080</Rep><Rep D=\"NNE\" F=\"12\" G=\"16\" H=\"87\" Pp=\"6\" S=\"7\" T=\"13\" V=\"MO\" W=\"7\" U=\"0\">1260</Rep></Period></Location></DV></SiteRep>'"
      ]
     },
     "execution_count": 9,
     "metadata": {},
     "output_type": "execute_result"
    }
   ],
   "source": [
    "weather_xml.content"
   ]
  },
  {
   "cell_type": "code",
   "execution_count": 11,
   "metadata": {
    "collapsed": false
   },
   "outputs": [],
   "source": [
    "soup = BeautifulSoup(weather_xml.content, 'lxml-xml')"
   ]
  },
  {
   "cell_type": "code",
   "execution_count": 13,
   "metadata": {
    "collapsed": true
   },
   "outputs": [],
   "source": [
    "soup_list = soup.findChildren()"
   ]
  },
  {
   "cell_type": "code",
   "execution_count": 16,
   "metadata": {
    "collapsed": false
   },
   "outputs": [],
   "source": [
    "d = {}\n",
    "for i, element in enumerate(soup_list):\n",
    "    index = map(lambda x: x.name, element.findChildren())\n",
    "    vals = map(lambda x: x.text, element.findChildren())\n",
    "    d[i] = pd.Series(vals, index = index)"
   ]
  },
  {
   "cell_type": "code",
   "execution_count": 17,
   "metadata": {
    "collapsed": false
   },
   "outputs": [
    {
     "data": {
      "text/plain": [
       "{0: Wx          Feels Like TemperatureWind GustScreen Relative...\n",
       " Param                                  Feels Like Temperature\n",
       " Param                                               Wind Gust\n",
       " Param                                Screen Relative Humidity\n",
       " Param                                             Temperature\n",
       " Param                                              Visibility\n",
       " Param                                          Wind Direction\n",
       " Param                                              Wind Speed\n",
       " Param                                            Max UV Index\n",
       " Param                                            Weather Type\n",
       " Param                               Precipitation Probability\n",
       " DV          9001080126001803605407209001080126001803605407...\n",
       " Location    9001080126001803605407209001080126001803605407...\n",
       " Period                                            90010801260\n",
       " Rep                                                       900\n",
       " Rep                                                      1080\n",
       " Rep                                                      1260\n",
       " Period                               018036054072090010801260\n",
       " Rep                                                         0\n",
       " Rep                                                       180\n",
       " Rep                                                       360\n",
       " Rep                                                       540\n",
       " Rep                                                       720\n",
       " Rep                                                       900\n",
       " Rep                                                      1080\n",
       " Rep                                                      1260\n",
       " Period                               018036054072090010801260\n",
       " Rep                                                         0\n",
       " Rep                                                       180\n",
       " Rep                                                       360\n",
       " Rep                                                       540\n",
       " Rep                                                       720\n",
       " Rep                                                       900\n",
       " Rep                                                      1080\n",
       " Rep                                                      1260\n",
       " Period                               018036054072090010801260\n",
       " Rep                                                         0\n",
       " Rep                                                       180\n",
       " Rep                                                       360\n",
       " Rep                                                       540\n",
       " Rep                                                       720\n",
       " Rep                                                       900\n",
       " Rep                                                      1080\n",
       " Rep                                                      1260\n",
       " Period                               018036054072090010801260\n",
       " Rep                                                         0\n",
       " Rep                                                       180\n",
       " Rep                                                       360\n",
       " Rep                                                       540\n",
       " Rep                                                       720\n",
       " Rep                                                       900\n",
       " Rep                                                      1080\n",
       " Rep                                                      1260\n",
       " dtype: object, 1: Param       Feels Like Temperature\n",
       " Param                    Wind Gust\n",
       " Param     Screen Relative Humidity\n",
       " Param                  Temperature\n",
       " Param                   Visibility\n",
       " Param               Wind Direction\n",
       " Param                   Wind Speed\n",
       " Param                 Max UV Index\n",
       " Param                 Weather Type\n",
       " Param    Precipitation Probability\n",
       " dtype: object, 2: Series([], dtype: float64), 3: Series([], dtype: float64), 4: Series([], dtype: float64), 5: Series([], dtype: float64), 6: Series([], dtype: float64), 7: Series([], dtype: float64), 8: Series([], dtype: float64), 9: Series([], dtype: float64), 10: Series([], dtype: float64), 11: Series([], dtype: float64), 12: Location    9001080126001803605407209001080126001803605407...\n",
       " Period                                            90010801260\n",
       " Rep                                                       900\n",
       " Rep                                                      1080\n",
       " Rep                                                      1260\n",
       " Period                               018036054072090010801260\n",
       " Rep                                                         0\n",
       " Rep                                                       180\n",
       " Rep                                                       360\n",
       " Rep                                                       540\n",
       " Rep                                                       720\n",
       " Rep                                                       900\n",
       " Rep                                                      1080\n",
       " Rep                                                      1260\n",
       " Period                               018036054072090010801260\n",
       " Rep                                                         0\n",
       " Rep                                                       180\n",
       " Rep                                                       360\n",
       " Rep                                                       540\n",
       " Rep                                                       720\n",
       " Rep                                                       900\n",
       " Rep                                                      1080\n",
       " Rep                                                      1260\n",
       " Period                               018036054072090010801260\n",
       " Rep                                                         0\n",
       " Rep                                                       180\n",
       " Rep                                                       360\n",
       " Rep                                                       540\n",
       " Rep                                                       720\n",
       " Rep                                                       900\n",
       " Rep                                                      1080\n",
       " Rep                                                      1260\n",
       " Period                               018036054072090010801260\n",
       " Rep                                                         0\n",
       " Rep                                                       180\n",
       " Rep                                                       360\n",
       " Rep                                                       540\n",
       " Rep                                                       720\n",
       " Rep                                                       900\n",
       " Rep                                                      1080\n",
       " Rep                                                      1260\n",
       " dtype: object, 13: Period                 90010801260\n",
       " Rep                            900\n",
       " Rep                           1080\n",
       " Rep                           1260\n",
       " Period    018036054072090010801260\n",
       " Rep                              0\n",
       " Rep                            180\n",
       " Rep                            360\n",
       " Rep                            540\n",
       " Rep                            720\n",
       " Rep                            900\n",
       " Rep                           1080\n",
       " Rep                           1260\n",
       " Period    018036054072090010801260\n",
       " Rep                              0\n",
       " Rep                            180\n",
       " Rep                            360\n",
       " Rep                            540\n",
       " Rep                            720\n",
       " Rep                            900\n",
       " Rep                           1080\n",
       " Rep                           1260\n",
       " Period    018036054072090010801260\n",
       " Rep                              0\n",
       " Rep                            180\n",
       " Rep                            360\n",
       " Rep                            540\n",
       " Rep                            720\n",
       " Rep                            900\n",
       " Rep                           1080\n",
       " Rep                           1260\n",
       " Period    018036054072090010801260\n",
       " Rep                              0\n",
       " Rep                            180\n",
       " Rep                            360\n",
       " Rep                            540\n",
       " Rep                            720\n",
       " Rep                            900\n",
       " Rep                           1080\n",
       " Rep                           1260\n",
       " dtype: object, 14: Rep     900\n",
       " Rep    1080\n",
       " Rep    1260\n",
       " dtype: object, 15: Series([], dtype: float64), 16: Series([], dtype: float64), 17: Series([], dtype: float64), 18: Rep       0\n",
       " Rep     180\n",
       " Rep     360\n",
       " Rep     540\n",
       " Rep     720\n",
       " Rep     900\n",
       " Rep    1080\n",
       " Rep    1260\n",
       " dtype: object, 19: Series([], dtype: float64), 20: Series([], dtype: float64), 21: Series([], dtype: float64), 22: Series([], dtype: float64), 23: Series([], dtype: float64), 24: Series([], dtype: float64), 25: Series([], dtype: float64), 26: Series([], dtype: float64), 27: Rep       0\n",
       " Rep     180\n",
       " Rep     360\n",
       " Rep     540\n",
       " Rep     720\n",
       " Rep     900\n",
       " Rep    1080\n",
       " Rep    1260\n",
       " dtype: object, 28: Series([], dtype: float64), 29: Series([], dtype: float64), 30: Series([], dtype: float64), 31: Series([], dtype: float64), 32: Series([], dtype: float64), 33: Series([], dtype: float64), 34: Series([], dtype: float64), 35: Series([], dtype: float64), 36: Rep       0\n",
       " Rep     180\n",
       " Rep     360\n",
       " Rep     540\n",
       " Rep     720\n",
       " Rep     900\n",
       " Rep    1080\n",
       " Rep    1260\n",
       " dtype: object, 37: Series([], dtype: float64), 38: Series([], dtype: float64), 39: Series([], dtype: float64), 40: Series([], dtype: float64), 41: Series([], dtype: float64), 42: Series([], dtype: float64), 43: Series([], dtype: float64), 44: Series([], dtype: float64), 45: Rep       0\n",
       " Rep     180\n",
       " Rep     360\n",
       " Rep     540\n",
       " Rep     720\n",
       " Rep     900\n",
       " Rep    1080\n",
       " Rep    1260\n",
       " dtype: object, 46: Series([], dtype: float64), 47: Series([], dtype: float64), 48: Series([], dtype: float64), 49: Series([], dtype: float64), 50: Series([], dtype: float64), 51: Series([], dtype: float64), 52: Series([], dtype: float64), 53: Series([], dtype: float64)}"
      ]
     },
     "execution_count": 17,
     "metadata": {},
     "output_type": "execute_result"
    }
   ],
   "source": [
    "d"
   ]
  },
  {
   "cell_type": "code",
   "execution_count": null,
   "metadata": {
    "collapsed": true
   },
   "outputs": [],
   "source": []
  }
 ],
 "metadata": {
  "kernelspec": {
   "display_name": "Python 3",
   "language": "python",
   "name": "python3"
  },
  "language_info": {
   "codemirror_mode": {
    "name": "ipython",
    "version": 3
   },
   "file_extension": ".py",
   "mimetype": "text/x-python",
   "name": "python",
   "nbconvert_exporter": "python",
   "pygments_lexer": "ipython3",
   "version": "3.6.0"
  }
 },
 "nbformat": 4,
 "nbformat_minor": 2
}
